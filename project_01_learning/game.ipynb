{
 "cells": [
  {
   "cell_type": "code",
   "execution_count": null,
   "metadata": {},
   "outputs": [],
   "source": [
    "'''Игра угадай число'''\n",
    "import numpy as np\n",
    "number = np.random.randint(1,101) # загадываем число\n",
    "count = 0\n",
    "while True:\n",
    "    count+=1\n",
    "    predict_number = int(input(\"Угадай число от 1 до 100: \"))\n",
    "    if predict_number > number:\n",
    "        print(\"Число должно быть меньше!\")\n",
    "    elif predict_number < number:\n",
    "        print(\"Число должно быть больше!\")\n",
    "    else:\n",
    "        print(f\"Вы угадали число! Это число = {number}, за {count} попыток\") \n",
    "        break   "
   ]
  }
 ],
 "metadata": {
  "kernelspec": {
   "display_name": "Python 3",
   "language": "python",
   "name": "python3"
  },
  "language_info": {
   "codemirror_mode": {
    "name": "ipython",
    "version": 3
   },
   "file_extension": ".py",
   "mimetype": "text/x-python",
   "name": "python",
   "nbconvert_exporter": "python",
   "pygments_lexer": "ipython3",
   "version": "3.12.2"
  }
 },
 "nbformat": 4,
 "nbformat_minor": 2
}
